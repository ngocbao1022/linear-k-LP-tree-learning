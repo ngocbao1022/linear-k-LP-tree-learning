{
 "cells": [
  {
   "cell_type": "code",
   "execution_count": 1,
   "id": "70577987",
   "metadata": {},
   "outputs": [],
   "source": [
    "import numpy as np\n",
    "from resources.initial import *\n",
    "from resources.testing import *\n",
    "from resources.training import *\n",
    "from resources.tree_classes import *"
   ]
  },
  {
   "cell_type": "code",
   "execution_count": 2,
   "id": "eba5ff86",
   "metadata": {},
   "outputs": [],
   "source": [
    "n = 4\n",
    "k = 3\n",
    "H = np.random.randint(1, 100, 2**n)\n",
    "noeuddict = generate_noeud_dictionary(n)\n",
    "obj_list_bin = objlist_to_binary(n)\n",
    "tree_list_no_rep = all_tree_no_CP(n,k)"
   ]
  },
  {
   "cell_type": "markdown",
   "id": "3a015347",
   "metadata": {},
   "source": [
    "# Testing k-LP-tree classic naive algorithm"
   ]
  },
  {
   "cell_type": "code",
   "execution_count": 3,
   "id": "ce664176",
   "metadata": {},
   "outputs": [
    {
     "name": "stdout",
     "output_type": "stream",
     "text": [
      "[635 508 921 749 516 215 907  18 958 131 624 896 335 229 152 475]\n",
      "ranking :  [(1,), (0, 1, 3), (1, 2, 3), (1, 3), (0, 2, 3), (1, 2), (0, 1, 2), (0, 1), (3,), (2, 3), (0, 3), (2,), (0, 2), (0,)]\n",
      "tree from algo :  [(1,), (0, 2, 3)]\n",
      "5.319022856451808\n",
      "5.319022856451808\n",
      "Better rank:  0\n"
     ]
    }
   ],
   "source": [
    "# no rep test block\n",
    "\n",
    "H = np.random.randint(1, 1000, 2**n)\n",
    "print(H)\n",
    "print(\"ranking : \",order(H,noeuddict))\n",
    "best = best_tree_no_rep(H, noeuddict=noeuddict)\n",
    "tree = kLPtree_classic(H,best,num_of_attrs=n,noeuddict=noeuddict,obj_list=obj_list_bin)\n",
    "print(\"tree from algo : \",best)\n",
    "print(tree.mean_empirical_rank(H))\n",
    "best_tree_rank = tree.mean_empirical_rank(H)\n",
    "\n",
    "mean_emp_rank_list = []\n",
    "for t in tree_list_no_rep:\n",
    "    tree = kLPtree_classic(H,t,num_of_attrs=n,noeuddict=noeuddict,obj_list=obj_list_bin)\n",
    "    mean_emp_rank_list += [tree.mean_empirical_rank(H)]\n",
    "\n",
    "print(min(mean_emp_rank_list))\n",
    "arg = np.argwhere(mean_emp_rank_list < best_tree_rank)\n",
    "print(\"Better rank: \",len(arg))\n",
    "for i in arg:\n",
    "    print(tree_list_no_rep[int(i)], end = ' ')\n",
    "    print(mean_emp_rank_list[int(i)])"
   ]
  },
  {
   "cell_type": "markdown",
   "id": "36240b4c",
   "metadata": {},
   "source": [
    "# Testing k-LP-tree classic refined algorithm "
   ]
  },
  {
   "cell_type": "code",
   "execution_count": 4,
   "id": "2f061aab",
   "metadata": {
    "scrolled": true
   },
   "outputs": [
    {
     "name": "stdout",
     "output_type": "stream",
     "text": [
      "[888 559 104 442  67 339 504 608 537 232 949 362 701 234 319 650]\n",
      "ranking :  [(0, 1, 2), (0, 2, 3), (1, 2, 3), (0, 1, 3), (0, 3), (1, 3), (1, 2), (2, 3), (0, 2), (1,), (3,), (0, 1), (0,), (2,)]\n",
      "tree from algo :  [(0, 1, 2), (3,)]\n",
      "5.832688458972648\n",
      "5.832688458972648\n",
      "Better rank:  0\n"
     ]
    }
   ],
   "source": [
    "# no rep test block\n",
    "\n",
    "H = np.random.randint(1, 1000, 2**n)\n",
    "print(H)\n",
    "print(\"ranking : \",order(H,noeuddict))\n",
    "best = best_tree_no_rep_v2(H, noeuddict=noeuddict, n_attrs=n)\n",
    "tree = kLPtree_classic(H,best,num_of_attrs=n,noeuddict=noeuddict,obj_list=obj_list_bin)\n",
    "print(\"tree from algo : \",best)\n",
    "print(tree.mean_empirical_rank(H))\n",
    "best_tree_rank = tree.mean_empirical_rank(H)\n",
    "\n",
    "mean_emp_rank_list = []\n",
    "for t in tree_list_no_rep:\n",
    "    tree = kLPtree_classic(H,t,num_of_attrs=n,noeuddict=noeuddict,obj_list=obj_list_bin)\n",
    "    mean_emp_rank_list += [tree.mean_empirical_rank(H)]\n",
    "\n",
    "print(min(mean_emp_rank_list))\n",
    "arg = np.argwhere(mean_emp_rank_list < best_tree_rank)\n",
    "print(\"Better rank: \",len(arg))\n",
    "for i in arg:\n",
    "    print(tree_list_no_rep[int(i)], end = ' ')\n",
    "    print(mean_emp_rank_list[int(i)])"
   ]
  },
  {
   "cell_type": "markdown",
   "id": "1890f71f",
   "metadata": {},
   "source": [
    "# Testing capacity of learning a hidden tree "
   ]
  },
  {
   "cell_type": "code",
   "execution_count": 5,
   "id": "d805bdaa",
   "metadata": {},
   "outputs": [
    {
     "ename": "TypeError",
     "evalue": "__init__() missing 3 required positional arguments: 'num_of_attrs', 'noeuddict', and 'obj_list'",
     "output_type": "error",
     "traceback": [
      "\u001b[1;31m---------------------------------------------------------------------------\u001b[0m",
      "\u001b[1;31mTypeError\u001b[0m                                 Traceback (most recent call last)",
      "\u001b[1;32m<ipython-input-5-155a727a791d>\u001b[0m in \u001b[0;36m<module>\u001b[1;34m\u001b[0m\n\u001b[0;32m      7\u001b[0m     \u001b[0mexe_time_list\u001b[0m \u001b[1;33m=\u001b[0m \u001b[1;33m[\u001b[0m\u001b[1;33m]\u001b[0m\u001b[1;33m\u001b[0m\u001b[1;33m\u001b[0m\u001b[0m\n\u001b[0;32m      8\u001b[0m     \u001b[1;32mfor\u001b[0m \u001b[0mi\u001b[0m \u001b[1;32min\u001b[0m \u001b[0mrange\u001b[0m\u001b[1;33m(\u001b[0m\u001b[1;36m1000\u001b[0m\u001b[1;33m)\u001b[0m\u001b[1;33m:\u001b[0m\u001b[1;33m\u001b[0m\u001b[1;33m\u001b[0m\u001b[0m\n\u001b[1;32m----> 9\u001b[1;33m         \u001b[0mrloss_list\u001b[0m \u001b[1;33m+=\u001b[0m \u001b[1;33m[\u001b[0m\u001b[0mlearn_from_random_tree\u001b[0m\u001b[1;33m(\u001b[0m\u001b[0mn\u001b[0m \u001b[1;33m=\u001b[0m \u001b[0mn\u001b[0m\u001b[1;33m,\u001b[0m \u001b[0msample_size\u001b[0m \u001b[1;33m=\u001b[0m \u001b[0msample_size\u001b[0m\u001b[1;33m)\u001b[0m\u001b[1;33m]\u001b[0m\u001b[1;33m\u001b[0m\u001b[1;33m\u001b[0m\u001b[0m\n\u001b[0m\u001b[0;32m     10\u001b[0m         \u001b[0mexe_time_list\u001b[0m \u001b[1;33m+=\u001b[0m \u001b[1;33m[\u001b[0m\u001b[0mlist\u001b[0m\u001b[1;33m(\u001b[0m\u001b[0mlearning_time\u001b[0m\u001b[1;33m(\u001b[0m\u001b[0msample_size\u001b[0m\u001b[1;33m)\u001b[0m\u001b[1;33m)\u001b[0m\u001b[1;33m]\u001b[0m\u001b[1;33m\u001b[0m\u001b[1;33m\u001b[0m\u001b[0m\n\u001b[0;32m     11\u001b[0m     \u001b[0mmean_rloss\u001b[0m \u001b[1;33m+=\u001b[0m \u001b[1;33m[\u001b[0m\u001b[0mnp\u001b[0m\u001b[1;33m.\u001b[0m\u001b[0mmean\u001b[0m\u001b[1;33m(\u001b[0m\u001b[0mrloss_list\u001b[0m\u001b[1;33m)\u001b[0m\u001b[1;33m]\u001b[0m\u001b[1;33m\u001b[0m\u001b[1;33m\u001b[0m\u001b[0m\n",
      "\u001b[1;32m~\\Desktop\\resources\\testing.py\u001b[0m in \u001b[0;36mlearn_from_random_tree\u001b[1;34m(n, k, sample_size, p)\u001b[0m\n\u001b[0;32m    185\u001b[0m \u001b[1;32mdef\u001b[0m \u001b[0mlearn_from_random_tree\u001b[0m\u001b[1;33m(\u001b[0m\u001b[0mn\u001b[0m\u001b[1;33m=\u001b[0m\u001b[1;36m4\u001b[0m\u001b[1;33m,\u001b[0m \u001b[0mk\u001b[0m\u001b[1;33m=\u001b[0m\u001b[1;36m3\u001b[0m\u001b[1;33m,\u001b[0m \u001b[0msample_size\u001b[0m \u001b[1;33m=\u001b[0m \u001b[1;36m3000\u001b[0m\u001b[1;33m,\u001b[0m \u001b[0mp\u001b[0m\u001b[1;33m=\u001b[0m\u001b[1;36m0.3\u001b[0m\u001b[1;33m)\u001b[0m\u001b[1;33m:\u001b[0m\u001b[1;33m\u001b[0m\u001b[1;33m\u001b[0m\u001b[0m\n\u001b[0;32m    186\u001b[0m     \u001b[0morigin_tree\u001b[0m\u001b[1;33m,\u001b[0m \u001b[0mPT\u001b[0m \u001b[1;33m=\u001b[0m \u001b[0mgenerate_kLPtree_classic\u001b[0m\u001b[1;33m(\u001b[0m\u001b[0mn\u001b[0m\u001b[1;33m,\u001b[0m \u001b[0mk\u001b[0m\u001b[1;33m)\u001b[0m\u001b[1;33m\u001b[0m\u001b[1;33m\u001b[0m\u001b[0m\n\u001b[1;32m--> 187\u001b[1;33m     \u001b[0morigin_tree_obj\u001b[0m \u001b[1;33m=\u001b[0m \u001b[0mkLPtree_classic\u001b[0m\u001b[1;33m(\u001b[0m\u001b[1;33m[\u001b[0m\u001b[1;33m]\u001b[0m\u001b[1;33m,\u001b[0m\u001b[0morigin_tree\u001b[0m\u001b[1;33m)\u001b[0m\u001b[1;33m\u001b[0m\u001b[1;33m\u001b[0m\u001b[0m\n\u001b[0m\u001b[0;32m    188\u001b[0m     \u001b[0morigin_tree_obj\u001b[0m\u001b[1;33m.\u001b[0m\u001b[0mmodify_PT\u001b[0m\u001b[1;33m(\u001b[0m\u001b[0mPT\u001b[0m\u001b[1;33m)\u001b[0m\u001b[1;33m\u001b[0m\u001b[1;33m\u001b[0m\u001b[0m\n\u001b[0;32m    189\u001b[0m \u001b[1;33m\u001b[0m\u001b[0m\n",
      "\u001b[1;31mTypeError\u001b[0m: __init__() missing 3 required positional arguments: 'num_of_attrs', 'noeuddict', and 'obj_list'"
     ]
    }
   ],
   "source": [
    "samplesize_list = [50,100,200,500,1000,2000,5000,10000,20000,50000]\n",
    "samplesize_list = np.flip(samplesize_list)\n",
    "mean_rloss = []\n",
    "mean_exe_time = []\n",
    "for sample_size in samplesize_list:\n",
    "    rloss_list = []\n",
    "    exe_time_list = []\n",
    "    for i in range(1000):\n",
    "        rloss_list += [learn_from_random_tree(n = n, sample_size = sample_size)]\n",
    "        exe_time_list += [list(learning_time(sample_size))]\n",
    "    mean_rloss += [np.mean(rloss_list)]\n",
    "    mean_exe_time += [np.mean(exe_time_list, axis=0)]"
   ]
  },
  {
   "cell_type": "code",
   "execution_count": null,
   "id": "8d2f479d",
   "metadata": {},
   "outputs": [],
   "source": []
  }
 ],
 "metadata": {
  "kernelspec": {
   "display_name": "Python 3",
   "language": "python",
   "name": "python3"
  },
  "language_info": {
   "codemirror_mode": {
    "name": "ipython",
    "version": 3
   },
   "file_extension": ".py",
   "mimetype": "text/x-python",
   "name": "python",
   "nbconvert_exporter": "python",
   "pygments_lexer": "ipython3",
   "version": "3.8.8"
  }
 },
 "nbformat": 4,
 "nbformat_minor": 5
}
