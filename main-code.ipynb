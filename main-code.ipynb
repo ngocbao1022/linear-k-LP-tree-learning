{
 "cells": [
  {
   "cell_type": "code",
   "execution_count": null,
   "id": "70577987",
   "metadata": {},
   "outputs": [],
   "source": [
    "import numpy as np\n",
    "from resources.initial import *\n",
    "from resources.testing import *\n",
    "from resources.training import *\n",
    "from resources.tree_classes import *"
   ]
  },
  {
   "cell_type": "code",
   "execution_count": null,
   "id": "eba5ff86",
   "metadata": {},
   "outputs": [],
   "source": [
    "n = 4\n",
    "k = 3\n",
    "# This code generate the data structure for linear k-LP-trees with n attributes\n",
    "# H is frequency of object list, from object 0 to 2^n-1\n",
    "H = np.random.randint(1, 100, 2**n)\n",
    "# noeuddict is the list of possible nodes in k-LP-tree with n attributs, in which each node is \n",
    "# associated with a list of values, each value is associated with a list of objects\n",
    "noeuddict = generate_noeud_dictionary(n)\n",
    "# obj_list_bin is list of objects, each object is transformed to a binary code that represents the value of\n",
    "# every attribute \n",
    "obj_list_bin = objlist_to_binary(n)"
   ]
  },
  {
   "cell_type": "code",
   "execution_count": null,
   "id": "27ec017f",
   "metadata": {},
   "outputs": [],
   "source": [
    "# this following function list all k-LP-tree with n attributes, this list will be used in bruteforce search\n",
    "# comment this if execution time is too long\n",
    "tree_list_no_rep = all_tree_no_CP(n,k)"
   ]
  },
  {
   "cell_type": "markdown",
   "id": "3a015347",
   "metadata": {},
   "source": [
    "# Testing k-LP-tree classic naive algorithm"
   ]
  },
  {
   "cell_type": "code",
   "execution_count": null,
   "id": "ce664176",
   "metadata": {},
   "outputs": [],
   "source": [
    "# no rep test block\n",
    "\n",
    "H = np.random.randint(1, 1000, 2**n)\n",
    "print(H)\n",
    "print(\"ranking : \",order(H,noeuddict))\n",
    "best = best_tree_no_rep(H, noeuddict=noeuddict)\n",
    "tree = kLPtree_classic(H,best,num_of_attrs=n,noeuddict=noeuddict,obj_list_bin=obj_list_bin)\n",
    "print(\"tree from algo : \",best)\n",
    "print(tree.mean_empirical_rank(H))\n",
    "best_tree_rank = tree.mean_empirical_rank(H)\n",
    "\n",
    "mean_emp_rank_list = []\n",
    "for t in tree_list_no_rep:\n",
    "    tree = kLPtree_classic(H,t,num_of_attrs=n,noeuddict=noeuddict,obj_list_bin=obj_list_bin)\n",
    "    mean_emp_rank_list += [tree.mean_empirical_rank(H)]\n",
    "\n",
    "print(min(mean_emp_rank_list))\n",
    "arg = np.argwhere(mean_emp_rank_list < best_tree_rank)\n",
    "print(\"Better rank: \",len(arg))\n",
    "for i in arg:\n",
    "    print(tree_list_no_rep[int(i)], end = ' ')\n",
    "    print(mean_emp_rank_list[int(i)])"
   ]
  },
  {
   "cell_type": "markdown",
   "id": "36240b4c",
   "metadata": {},
   "source": [
    "# Testing k-LP-tree classic refined algorithm "
   ]
  },
  {
   "cell_type": "code",
   "execution_count": null,
   "id": "2f061aab",
   "metadata": {
    "scrolled": true
   },
   "outputs": [],
   "source": [
    "# no rep test block\n",
    "\n",
    "H = np.random.randint(1, 1000, 2**n)\n",
    "print(H)\n",
    "print(\"ranking : \",order(H,noeuddict))\n",
    "best = best_tree_no_rep_v2(H, noeuddict=noeuddict, num_of_attrs=n)\n",
    "tree = kLPtree_classic(H,best,num_of_attrs=n,noeuddict=noeuddict,obj_list_bin=obj_list_bin)\n",
    "print(\"tree from algo : \",best)\n",
    "print(tree.mean_empirical_rank(H))\n",
    "best_tree_rank = tree.mean_empirical_rank(H)\n",
    "\n",
    "mean_emp_rank_list = []\n",
    "for t in tree_list_no_rep:\n",
    "    tree = kLPtree_classic(H,t,num_of_attrs=n,noeuddict=noeuddict,obj_list_bin=obj_list_bin)\n",
    "    mean_emp_rank_list += [tree.mean_empirical_rank(H)]\n",
    "\n",
    "print(min(mean_emp_rank_list))\n",
    "arg = np.argwhere(mean_emp_rank_list < best_tree_rank)\n",
    "print(\"Better rank: \",len(arg))\n",
    "for i in arg:\n",
    "    print(tree_list_no_rep[int(i)], end = ' ')\n",
    "    print(mean_emp_rank_list[int(i)])"
   ]
  },
  {
   "cell_type": "markdown",
   "id": "1890f71f",
   "metadata": {},
   "source": [
    "# Testing capacity of learning a hidden tree "
   ]
  },
  {
   "cell_type": "code",
   "execution_count": null,
   "id": "d805bdaa",
   "metadata": {},
   "outputs": [],
   "source": [
    "samplesize_list = [50,100,200,500,1000,2000,5000,10000,20000,50000]\n",
    "samplesize_list = np.flip(samplesize_list)\n",
    "mean_rloss = []\n",
    "mean_exe_time = []\n",
    "for sample_size in samplesize_list:\n",
    "    rloss_list = []\n",
    "    print(\"sample size\", sample_size, \":\", end=\"\")\n",
    "    for i in range(1000):\n",
    "        print(i, end = \" \")\n",
    "        rloss_list += [learn_from_random_tree_parallel(n = n, k = k, noeuddict = noeuddict, obj_list_bin=obj_list_bin, sample_size = sample_size)]\n",
    "    print(\" \")\n",
    "    mean_rloss += [np.mean(rloss_list)]"
   ]
  },
  {
   "cell_type": "code",
   "execution_count": null,
   "id": "8d2f479d",
   "metadata": {},
   "outputs": [],
   "source": []
  }
 ],
 "metadata": {
  "kernelspec": {
   "display_name": "Python 3",
   "language": "python",
   "name": "python3"
  },
  "language_info": {
   "codemirror_mode": {
    "name": "ipython",
    "version": 3
   },
   "file_extension": ".py",
   "mimetype": "text/x-python",
   "name": "python",
   "nbconvert_exporter": "python",
   "pygments_lexer": "ipython3",
   "version": "3.8.8"
  }
 },
 "nbformat": 4,
 "nbformat_minor": 5
}
